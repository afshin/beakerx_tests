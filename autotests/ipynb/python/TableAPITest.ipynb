{
 "cells": [
  {
   "cell_type": "markdown",
   "metadata": {},
   "source": [
    "# Python API for Table Display\n",
    "\n",
    "In addition to APIs for creating and formatting BeakerX's interactive table widget, the Python runtime configures pandas to display tables with the interactive widget instead of static HTML."
   ]
  },
  {
   "cell_type": "code",
   "execution_count": 1,
   "metadata": {},
   "outputs": [
    {
     "data": {
      "text/plain": [
       "'no errors'"
      ]
     },
     "execution_count": 1,
     "metadata": {},
     "output_type": "execute_result"
    }
   ],
   "source": [
    "import pandas as pd\n",
    "from beakerx_base import *\n",
    "from beakerx_tabledisplay import *\n",
    "\"no errors\""
   ]
  },
  {
   "cell_type": "code",
   "execution_count": 2,
   "metadata": {
    "scrolled": true
   },
   "outputs": [
    {
     "data": {
      "text/html": [
       "<div>\n",
       "<style scoped>\n",
       "    .dataframe tbody tr th:only-of-type {\n",
       "        vertical-align: middle;\n",
       "    }\n",
       "\n",
       "    .dataframe tbody tr th {\n",
       "        vertical-align: top;\n",
       "    }\n",
       "\n",
       "    .dataframe thead th {\n",
       "        text-align: right;\n",
       "    }\n",
       "</style>\n",
       "<table border=\"1\" class=\"dataframe\">\n",
       "  <thead>\n",
       "    <tr style=\"text-align: right;\">\n",
       "      <th></th>\n",
       "      <th>m3</th>\n",
       "      <th>y30</th>\n",
       "      <th>y1</th>\n",
       "      <th>m6</th>\n",
       "      <th>y2</th>\n",
       "      <th>y10</th>\n",
       "      <th>y3</th>\n",
       "      <th>time</th>\n",
       "      <th>y5</th>\n",
       "      <th>y7</th>\n",
       "      <th>spread</th>\n",
       "    </tr>\n",
       "  </thead>\n",
       "  <tbody>\n",
       "    <tr>\n",
       "      <th>0</th>\n",
       "      <td>7.8981</td>\n",
       "      <td>8.2586</td>\n",
       "      <td>7.9210</td>\n",
       "      <td>7.9562</td>\n",
       "      <td>8.0852</td>\n",
       "      <td>8.2067</td>\n",
       "      <td>8.1324</td>\n",
       "      <td>1990-01-30 19:00:00.000 -0500</td>\n",
       "      <td>8.1195</td>\n",
       "      <td>8.1962</td>\n",
       "      <td>0.3086</td>\n",
       "    </tr>\n",
       "    <tr>\n",
       "      <th>1</th>\n",
       "      <td>8.0021</td>\n",
       "      <td>8.5037</td>\n",
       "      <td>8.1111</td>\n",
       "      <td>8.1211</td>\n",
       "      <td>8.3705</td>\n",
       "      <td>8.4732</td>\n",
       "      <td>8.3868</td>\n",
       "      <td>1990-02-27 19:00:00.000 -0500</td>\n",
       "      <td>8.4247</td>\n",
       "      <td>8.4758</td>\n",
       "      <td>0.4711</td>\n",
       "    </tr>\n",
       "    <tr>\n",
       "      <th>2</th>\n",
       "      <td>8.1700</td>\n",
       "      <td>8.5632</td>\n",
       "      <td>8.3500</td>\n",
       "      <td>8.2800</td>\n",
       "      <td>8.6268</td>\n",
       "      <td>8.5886</td>\n",
       "      <td>8.6273</td>\n",
       "      <td>1990-03-30 19:00:00.000 -0500</td>\n",
       "      <td>8.6005</td>\n",
       "      <td>8.6482</td>\n",
       "      <td>0.4186</td>\n",
       "    </tr>\n",
       "    <tr>\n",
       "      <th>3</th>\n",
       "      <td>8.0405</td>\n",
       "      <td>8.7560</td>\n",
       "      <td>8.4045</td>\n",
       "      <td>8.2700</td>\n",
       "      <td>8.7240</td>\n",
       "      <td>8.7855</td>\n",
       "      <td>8.7825</td>\n",
       "      <td>1990-04-29 20:00:00.000 -0400</td>\n",
       "      <td>8.7680</td>\n",
       "      <td>8.8130</td>\n",
       "      <td>0.7450</td>\n",
       "    </tr>\n",
       "    <tr>\n",
       "      <th>4</th>\n",
       "      <td>8.0068</td>\n",
       "      <td>8.7314</td>\n",
       "      <td>8.3164</td>\n",
       "      <td>8.1909</td>\n",
       "      <td>8.6423</td>\n",
       "      <td>8.7582</td>\n",
       "      <td>8.6923</td>\n",
       "      <td>1990-05-30 20:00:00.000 -0400</td>\n",
       "      <td>8.7359</td>\n",
       "      <td>8.7836</td>\n",
       "      <td>0.7514</td>\n",
       "    </tr>\n",
       "    <tr>\n",
       "      <th>...</th>\n",
       "      <td>...</td>\n",
       "      <td>...</td>\n",
       "      <td>...</td>\n",
       "      <td>...</td>\n",
       "      <td>...</td>\n",
       "      <td>...</td>\n",
       "      <td>...</td>\n",
       "      <td>...</td>\n",
       "      <td>...</td>\n",
       "      <td>...</td>\n",
       "      <td>...</td>\n",
       "    </tr>\n",
       "    <tr>\n",
       "      <th>308</th>\n",
       "      <td>0.0243</td>\n",
       "      <td>2.9529</td>\n",
       "      <td>0.3733</td>\n",
       "      <td>0.1795</td>\n",
       "      <td>0.7133</td>\n",
       "      <td>2.1729</td>\n",
       "      <td>1.0133</td>\n",
       "      <td>2015-09-29 20:00:00.000 -0400</td>\n",
       "      <td>1.4900</td>\n",
       "      <td>1.8762</td>\n",
       "      <td>2.1486</td>\n",
       "    </tr>\n",
       "    <tr>\n",
       "      <th>309</th>\n",
       "      <td>0.0167</td>\n",
       "      <td>2.8881</td>\n",
       "      <td>0.2633</td>\n",
       "      <td>0.1138</td>\n",
       "      <td>0.6448</td>\n",
       "      <td>2.0700</td>\n",
       "      <td>0.9267</td>\n",
       "      <td>2015-10-30 20:00:00.000 -0400</td>\n",
       "      <td>1.3857</td>\n",
       "      <td>1.7624</td>\n",
       "      <td>2.0533</td>\n",
       "    </tr>\n",
       "    <tr>\n",
       "      <th>310</th>\n",
       "      <td>0.1263</td>\n",
       "      <td>3.0300</td>\n",
       "      <td>0.4768</td>\n",
       "      <td>0.3279</td>\n",
       "      <td>0.8847</td>\n",
       "      <td>2.2632</td>\n",
       "      <td>1.2042</td>\n",
       "      <td>2015-11-29 19:00:00.000 -0500</td>\n",
       "      <td>1.6711</td>\n",
       "      <td>2.0247</td>\n",
       "      <td>2.1368</td>\n",
       "    </tr>\n",
       "    <tr>\n",
       "      <th>311</th>\n",
       "      <td>0.2286</td>\n",
       "      <td>2.9700</td>\n",
       "      <td>0.6536</td>\n",
       "      <td>0.4991</td>\n",
       "      <td>0.9827</td>\n",
       "      <td>2.2427</td>\n",
       "      <td>1.2805</td>\n",
       "      <td>2015-12-30 19:00:00.000 -0500</td>\n",
       "      <td>1.6986</td>\n",
       "      <td>2.0382</td>\n",
       "      <td>2.0141</td>\n",
       "    </tr>\n",
       "    <tr>\n",
       "      <th>312</th>\n",
       "      <td>0.2200</td>\n",
       "      <td>2.9800</td>\n",
       "      <td>0.6100</td>\n",
       "      <td>0.4900</td>\n",
       "      <td>1.0200</td>\n",
       "      <td>2.2400</td>\n",
       "      <td>1.3100</td>\n",
       "      <td>2016-01-30 19:00:00.000 -0500</td>\n",
       "      <td>1.7300</td>\n",
       "      <td>2.0600</td>\n",
       "      <td>2.0200</td>\n",
       "    </tr>\n",
       "  </tbody>\n",
       "</table>\n",
       "<p>313 rows × 11 columns</p>\n",
       "</div>"
      ],
      "text/plain": [
       "         m3     y30      y1      m6      y2     y10      y3  \\\n",
       "0    7.8981  8.2586  7.9210  7.9562  8.0852  8.2067  8.1324   \n",
       "1    8.0021  8.5037  8.1111  8.1211  8.3705  8.4732  8.3868   \n",
       "2    8.1700  8.5632  8.3500  8.2800  8.6268  8.5886  8.6273   \n",
       "3    8.0405  8.7560  8.4045  8.2700  8.7240  8.7855  8.7825   \n",
       "4    8.0068  8.7314  8.3164  8.1909  8.6423  8.7582  8.6923   \n",
       "..      ...     ...     ...     ...     ...     ...     ...   \n",
       "308  0.0243  2.9529  0.3733  0.1795  0.7133  2.1729  1.0133   \n",
       "309  0.0167  2.8881  0.2633  0.1138  0.6448  2.0700  0.9267   \n",
       "310  0.1263  3.0300  0.4768  0.3279  0.8847  2.2632  1.2042   \n",
       "311  0.2286  2.9700  0.6536  0.4991  0.9827  2.2427  1.2805   \n",
       "312  0.2200  2.9800  0.6100  0.4900  1.0200  2.2400  1.3100   \n",
       "\n",
       "                              time      y5      y7  spread  \n",
       "0    1990-01-30 19:00:00.000 -0500  8.1195  8.1962  0.3086  \n",
       "1    1990-02-27 19:00:00.000 -0500  8.4247  8.4758  0.4711  \n",
       "2    1990-03-30 19:00:00.000 -0500  8.6005  8.6482  0.4186  \n",
       "3    1990-04-29 20:00:00.000 -0400  8.7680  8.8130  0.7450  \n",
       "4    1990-05-30 20:00:00.000 -0400  8.7359  8.7836  0.7514  \n",
       "..                             ...     ...     ...     ...  \n",
       "308  2015-09-29 20:00:00.000 -0400  1.4900  1.8762  2.1486  \n",
       "309  2015-10-30 20:00:00.000 -0400  1.3857  1.7624  2.0533  \n",
       "310  2015-11-29 19:00:00.000 -0500  1.6711  2.0247  2.1368  \n",
       "311  2015-12-30 19:00:00.000 -0500  1.6986  2.0382  2.0141  \n",
       "312  2016-01-30 19:00:00.000 -0500  1.7300  2.0600  2.0200  \n",
       "\n",
       "[313 rows x 11 columns]"
      ]
     },
     "execution_count": 2,
     "metadata": {},
     "output_type": "execute_result"
    }
   ],
   "source": [
    "pd.read_csv('../../resources/data/interest-rates.csv')"
   ]
  },
  {
   "cell_type": "code",
   "execution_count": 3,
   "metadata": {},
   "outputs": [
    {
     "data": {
      "application/vnd.jupyter.widget-view+json": {
       "model_id": "897b679ace5d4f9c813b266701fbcbb7",
       "version_major": 2,
       "version_minor": 0
      }
     },
     "metadata": {},
     "output_type": "display_data"
    }
   ],
   "source": [
    "table = TableDisplay(pd.read_csv('../../resources/data/interest-rates.csv'))\n",
    "table.setAlignmentProviderForColumn('m3', TableDisplayAlignmentProvider.CENTER_ALIGNMENT)\n",
    "table.setRendererForColumn(\"y10\", TableDisplayCellRenderer.getDataBarsRenderer(False))\n",
    "table.setRendererForType(ColumnType.Double, TableDisplayCellRenderer.getDataBarsRenderer(True))\n",
    "table"
   ]
  },
  {
   "cell_type": "code",
   "execution_count": null,
   "metadata": {},
   "outputs": [],
   "source": [
    "df = pd.read_csv('../resources/data/interest-rates.csv')\n",
    "df['time'] = df['time'].str.slice(0,19).astype('datetime64[ns]')\n",
    "table = TableDisplay(df)\n",
    "table.setStringFormatForTimes(TimeUnit.DAYS)\n",
    "table.setStringFormatForType(ColumnType.Double, TableDisplayStringFormat.getDecimalFormat(4,6))\n",
    "table.setStringFormatForColumn(\"m3\", TableDisplayStringFormat.getDecimalFormat(0, 0))\n",
    "\n",
    "table"
   ]
  },
  {
   "cell_type": "code",
   "execution_count": null,
   "metadata": {},
   "outputs": [],
   "source": [
    "table = TableDisplay(pd.read_csv('../resources/data/interest-rates.csv'))\n",
    "table\n",
    "#freeze a column\n",
    "table.setColumnFrozen(\"y1\", True)\n",
    "#hide a column\n",
    "table.setColumnVisible(\"y30\", False)\n",
    "\n",
    "table.setColumnOrder([\"m3\", \"y1\", \"y5\", \"time\", \"y2\"])\n",
    "\n",
    "def config_tooltip(row, column, table):\n",
    "      return \"The value is: \" + str(table.values[row][column])\n",
    "\n",
    "table.setToolTip(config_tooltip)\n",
    "\n",
    "table.setDataFontSize(16)\n",
    "table.setHeaderFontSize(18)\n",
    "\n",
    "table"
   ]
  },
  {
   "cell_type": "code",
   "execution_count": null,
   "metadata": {},
   "outputs": [],
   "source": [
    "mapListColorProvider = [\n",
    "    {\"a\": 1, \"b\": 2, \"c\": 3},\n",
    "    {\"a\": 4, \"b\": 5, \"c\": 6},\n",
    "    {\"a\": 7, \"b\": 8, \"c\": 5}\n",
    "]\n",
    "tabledisplay = TableDisplay(mapListColorProvider)\n",
    "\n",
    "colors = [\n",
    "    [Color.LIGHT_GRAY, Color.GRAY, Color.RED],\n",
    "    [Color.DARK_GREEN, Color.ORANGE, Color.RED],\n",
    "    [Color.MAGENTA, Color.BLUE, Color.BLACK]\n",
    "]\n",
    "\n",
    "def color_provider(row, column, table):\n",
    "    return colors[row][column]\n",
    "\n",
    "tabledisplay.setFontColorProvider(color_provider)\n",
    "tabledisplay"
   ]
  },
  {
   "cell_type": "code",
   "execution_count": null,
   "metadata": {},
   "outputs": [],
   "source": [
    "mapListFilter = [\n",
    "   {\"a\":1, \"b\":2, \"c\":3},\n",
    "   {\"a\":4, \"b\":5, \"c\":6},\n",
    "   {\"a\":7, \"b\":8, \"c\":5}\n",
    "]\n",
    "display = TableDisplay(mapListFilter)\n",
    "\n",
    "def filter_row(row, model):\n",
    "    return model[row][1] == 8\n",
    "\n",
    "display.setRowFilter(filter_row)\n",
    "\n",
    "display"
   ]
  },
  {
   "cell_type": "code",
   "execution_count": null,
   "metadata": {},
   "outputs": [],
   "source": [
    "table = TableDisplay(pd.read_csv('../resources/data/interest-rates.csv'))\n",
    "table.addCellHighlighter(TableDisplayCellHighlighter.getHeatmapHighlighter(\"m3\", TableDisplayCellHighlighter.FULL_ROW))\n",
    "\n",
    "table"
   ]
  },
  {
   "cell_type": "markdown",
   "metadata": {},
   "source": [
    "### Display mode: Pandas default"
   ]
  },
  {
   "cell_type": "code",
   "execution_count": null,
   "metadata": {},
   "outputs": [],
   "source": [
    "# beakerx.pandas_display_default()\n",
    "# pd.read_csv('../resources/data/interest-rates.csv')"
   ]
  },
  {
   "cell_type": "markdown",
   "metadata": {},
   "source": [
    "### Display mode: TableDisplay Widget"
   ]
  },
  {
   "cell_type": "code",
   "execution_count": null,
   "metadata": {},
   "outputs": [],
   "source": [
    "# beakerx.pandas_display_table()\n",
    "# pd.read_csv('../resources/data/interest-rates.csv')"
   ]
  },
  {
   "cell_type": "markdown",
   "metadata": {},
   "source": [
    "## Recognized Formats"
   ]
  },
  {
   "cell_type": "code",
   "execution_count": null,
   "metadata": {},
   "outputs": [],
   "source": [
    "TableDisplay([{'y1':4, 'm3':2, 'z2':1}, {'m3':4, 'z2':2}])"
   ]
  },
  {
   "cell_type": "code",
   "execution_count": null,
   "metadata": {},
   "outputs": [],
   "source": [
    "TableDisplay({\"x\" : 1, \"y\" : 2})"
   ]
  },
  {
   "cell_type": "markdown",
   "metadata": {},
   "source": [
    "## Programmable Table Actions"
   ]
  },
  {
   "cell_type": "code",
   "execution_count": null,
   "metadata": {},
   "outputs": [],
   "source": [
    "mapList4 = [\n",
    "   {\"a\":1, \"b\":2, \"c\":3},\n",
    "   {\"a\":4, \"b\":5, \"c\":6},\n",
    "   {\"a\":7, \"b\":8, \"c\":5}\n",
    "]\n",
    "display = TableDisplay(mapList4)\n",
    "\n",
    "def dclick(row, column, tabledisplay):\n",
    "    tabledisplay.values[row][column] = sum(map(int,tabledisplay.values[row]))\n",
    "\n",
    "display.setDoubleClickAction(dclick)\n",
    "\n",
    "def negate(row, column, tabledisplay):\n",
    "    tabledisplay.values[row][column] = -1 * int(tabledisplay.values[row][column])\n",
    "\n",
    "def incr(row, column, tabledisplay):\n",
    "    tabledisplay.values[row][column] = int(tabledisplay.values[row][column]) + 1\n",
    "\n",
    "display.addContextMenuItem(\"negate\", negate)\n",
    "display.addContextMenuItem(\"increment\", incr)\n",
    "\n",
    "display"
   ]
  },
  {
   "cell_type": "code",
   "execution_count": null,
   "metadata": {},
   "outputs": [],
   "source": [
    "mapList4 = [\n",
    "   {\"a\":1, \"b\":2, \"c\":3},\n",
    "   {\"a\":4, \"b\":5, \"c\":6},\n",
    "   {\"a\":7, \"b\":8, \"c\":5}\n",
    "]\n",
    "display = TableDisplay(mapList4)\n",
    "\n",
    "#set what happens on a double click\n",
    "display.setDoubleClickAction(\"runDoubleClick\")\n",
    "\n",
    "display"
   ]
  },
  {
   "cell_type": "code",
   "execution_count": null,
   "metadata": {
    "tags": [
     "runDoubleClick"
    ]
   },
   "outputs": [],
   "source": [
    "print(\"runDoubleClick fired\")\n",
    "print(display.details)"
   ]
  },
  {
   "cell_type": "markdown",
   "metadata": {},
   "source": [
    "## Set index to DataFrame"
   ]
  },
  {
   "cell_type": "code",
   "execution_count": null,
   "metadata": {},
   "outputs": [],
   "source": [
    "df = pd.read_csv('../resources/data/interest-rates.csv')\n",
    "df.set_index(['m3'])"
   ]
  },
  {
   "cell_type": "code",
   "execution_count": null,
   "metadata": {
    "scrolled": true
   },
   "outputs": [],
   "source": [
    "df = pd.read_csv('../resources/data/interest-rates.csv')\n",
    "df.index = df['time']\n",
    "df"
   ]
  },
  {
   "cell_type": "markdown",
   "metadata": {},
   "source": [
    "# Update cell"
   ]
  },
  {
   "cell_type": "code",
   "execution_count": null,
   "metadata": {},
   "outputs": [],
   "source": [
    "dataToUpdate = [\n",
    "   {'a':1, 'b':2, 'c':3},\n",
    "   {'a':4, 'b':5, 'c':6},\n",
    "   {'a':7, 'b':8, 'c':9}\n",
    "]\n",
    "tableToUpdate = TableDisplay(dataToUpdate)\n",
    "\n",
    "tableToUpdate"
   ]
  },
  {
   "cell_type": "code",
   "execution_count": null,
   "metadata": {},
   "outputs": [],
   "source": [
    "tableToUpdate.values[0][0] = 99\n",
    "tableToUpdate.sendModel()"
   ]
  },
  {
   "cell_type": "code",
   "execution_count": null,
   "metadata": {},
   "outputs": [],
   "source": [
    "tableToUpdate.updateCell(2,\"c\",121)\n",
    "tableToUpdate.sendModel()"
   ]
  },
  {
   "cell_type": "markdown",
   "metadata": {},
   "source": [
    "## HTML format\n",
    "\n",
    "HTML format allows markup and styling of the cell's content.  Interactive JavaScript is not supported however."
   ]
  },
  {
   "cell_type": "code",
   "execution_count": null,
   "metadata": {},
   "outputs": [],
   "source": [
    "table = TableDisplay({\n",
    "                      'w': '$2 \\\\sigma$',\n",
    "                      'x': '<em style=\"color:red\">italic red</em>',\n",
    "                      'y': '<b style=\"color:blue\">bold blue</b>',\n",
    "                      'z': 'strings without markup work fine too',\n",
    "                      })\n",
    "table.setStringFormatForColumn(\"Value\", TableDisplayStringFormat.getHTMLFormat())\n",
    "table"
   ]
  },
  {
   "cell_type": "markdown",
   "metadata": {},
   "source": [
    "## Auto linking of URLs\n",
    "\n",
    "The normal string format automatically detects URLs and links them.  An underline appears when the mouse hovers over such a string, and when you click it opens in a new window."
   ]
  },
  {
   "cell_type": "code",
   "execution_count": null,
   "metadata": {},
   "outputs": [],
   "source": [
    "TableDisplay({'Two Sigma': 'http://twosigma.com', 'BeakerX': 'http://BeakerX.com'})"
   ]
  }
 ],
 "metadata": {
  "celltoolbar": "Tags",
  "kernelspec": {
   "display_name": "Python 3",
   "language": "python",
   "name": "python3"
  },
  "language_info": {
   "codemirror_mode": {
    "name": "ipython",
    "version": 3
   },
   "file_extension": ".py",
   "mimetype": "text/x-python",
   "name": "python",
   "nbconvert_exporter": "python",
   "pygments_lexer": "ipython3",
   "version": "3.7.5"
  },
  "toc": {
   "base_numbering": 1,
   "nav_menu": {},
   "number_sections": false,
   "sideBar": false,
   "skip_h1_title": false,
   "title_cell": "Table of Contents",
   "title_sidebar": "Contents",
   "toc_cell": false,
   "toc_position": {},
   "toc_section_display": false,
   "toc_window_display": false
  }
 },
 "nbformat": 4,
 "nbformat_minor": 4
}
